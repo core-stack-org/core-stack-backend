{
 "cells": [
  {
   "cell_type": "code",
   "execution_count": 1,
   "id": "a31b9fe0",
   "metadata": {},
   "outputs": [],
   "source": [
    "import numpy as np\n",
    "import pandas as pd\n",
    "import geopandas as gpd\n",
    "import matplotlib.pyplot as plt\n",
    "\n",
    "import rasterio\n",
    "import os\n",
    "\n",
    "import json\n",
    "import xml.etree.ElementTree as ET\n",
    "import datetime\n",
    "# from datetime import datetime, timezone\n",
    "\n",
    "import urllib\n",
    "import requests\n",
    "from io import BytesIO\n",
    "\n",
    "from rasterio.warp import transform_bounds\n",
    "\n",
    "from matplotlib.colors import ListedColormap, Normalize\n",
    "from shapely.geometry import mapping, box, Polygon\n",
    "\n",
    "import sys\n",
    "sys.path.append('..')\n",
    "import constants\n",
    "\n",
    "import pystac\n",
    "from pystac.extensions.table import TableExtension\n",
    "from pystac import Asset, MediaType\n",
    "from pystac.extensions.classification import ClassificationExtension, Classification\n",
    "from pystac.extensions.raster import RasterExtension,RasterBand\n",
    "from pystac.extensions.projection import ProjectionExtension"
   ]
  },
  {
   "cell_type": "code",
   "execution_count": 2,
   "id": "17aa8033",
   "metadata": {},
   "outputs": [],
   "source": [
    "import generate_STAC_layerwise"
   ]
  },
  {
   "cell_type": "code",
   "execution_count": 3,
   "id": "58b30447",
   "metadata": {},
   "outputs": [],
   "source": [
    "block_district_state_df = pd.DataFrame({\n",
    "    'block' : ['gobindpur','mirzapur','koraput','badlapur'],\n",
    "    'district' : ['saraikela-kharsawan','mirzapur','koraput','jaunpur'],\n",
    "    'state' : ['jharkhand','uttar_pradesh','odisha','uttar_pradesh']\n",
    "})"
   ]
  },
  {
   "cell_type": "code",
   "execution_count": 4,
   "id": "7b3fa71e",
   "metadata": {},
   "outputs": [
    {
     "name": "stdout",
     "output_type": "stream",
     "text": [
      "odisha koraput koraput\n"
     ]
    }
   ],
   "source": [
    "block = 'koraput'\n",
    "district = block_district_state_df[block_district_state_df['block'] == block]['district'].iloc[0]\n",
    "state = block_district_state_df[block_district_state_df['block'] == block]['state'].iloc[0]\n",
    "print(state,district,block)\n"
   ]
  },
  {
   "cell_type": "code",
   "execution_count": 5,
   "id": "71c24ed0",
   "metadata": {},
   "outputs": [
    {
     "name": "stdout",
     "output_type": "stream",
     "text": [
      "../data/input/metadata/layer_mapping.csv\n",
      "../data/input/metadata/layer_descriptions.csv\n",
      "../data/input/metadata/vector_column_descriptions.csv\n",
      "geoserver_workspace_name=drainage\n",
      "geoserver_layer_name=koraput_koraput\n",
      "style file url = https://raw.githubusercontent.com/core-stack-org/QGIS-Styles/main/Hydrology/Drainage-Layer-Style.qml\n"
     ]
    },
    {
     "name": "stderr",
     "output_type": "stream",
     "text": [
      "/home/nirzaree/Code/GitClones/core-stack-org/core-stack-backend/computing/STAC_specs/notebooks/../generate_STAC_layerwise.py:780: SettingWithCopyWarning: \n",
      "A value is trying to be set on a copy of a slice from a DataFrame\n",
      "\n",
      "See the caveats in the documentation: https://pandas.pydata.org/pandas-docs/stable/user_guide/indexing.html#returning-a-view-versus-a-copy\n",
      "  vector_column_desc_filtered_gdf.rename({'column_name_description':'column_description'},axis=1,inplace=True)\n"
     ]
    },
    {
     "name": "stdout",
     "output_type": "stream",
     "text": [
      "Applying categorized style...\n",
      "Thumbnail saved to: ../data/STAC_output_prod/koraput_drainage_lines_vector.png\n",
      "created block catalog\n",
      "created district catalog\n",
      "created state collection\n",
      "loaded root catalog\n"
     ]
    }
   ],
   "source": [
    "generate_STAC_layerwise.generate_vector_stac(state=state,\n",
    "                     district=district,\n",
    "                     block=block,\n",
    "                     layer_name='drainage_lines_vector',\n",
    "                    #  layer_map_csv_path='../data/input/metadata/layer_mapping.csv',\n",
    "                    #  layer_desc_csv_path='../data/input/metadata/layer_descriptions.csv',\n",
    "                    #  column_desc_csv_path='../data/input/metadata/vector_column_descriptions.csv'\n",
    "                     )"
   ]
  },
  {
   "cell_type": "code",
   "execution_count": 6,
   "id": "5bf678f1",
   "metadata": {},
   "outputs": [
    {
     "name": "stdout",
     "output_type": "stream",
     "text": [
      "geoserver_workspace_name=canopy_height\n",
      "geoserver_layer_name=tree_health_ch_raster_koraput_koraput_2019\n",
      "style file url = https://raw.githubusercontent.com/core-stack-org/QGIS-Styles/main/Tree%20Health/tree_cover_change.qml\n",
      "Raster URL: https://geoserver.core-stack.org:8443/geoserver/canopy_height/wcs?service=WCS&version=2.0.1&request=GetCoverage&CoverageId=canopy_height:tree_health_ch_raster_koraput_koraput_2019&format=geotiff\n",
      "start_date = 2019-07-01 00:00:00\n",
      "end_date = 2020-06-30 00:00:00\n"
     ]
    },
    {
     "name": "stderr",
     "output_type": "stream",
     "text": [
      "/home/nirzaree/miniconda3/envs/black/lib/python3.10/site-packages/urllib3/connectionpool.py:1097: InsecureRequestWarning: Unverified HTTPS request is being made to host 'geoserver.core-stack.org'. Adding certificate verification is strongly advised. See: https://urllib3.readthedocs.io/en/latest/advanced-usage.html#tls-warnings\n",
      "  warnings.warn(\n"
     ]
    },
    {
     "name": "stdout",
     "output_type": "stream",
     "text": [
      "Loaded existing block catalog: koraput\n"
     ]
    }
   ],
   "source": [
    "generate_STAC_layerwise.generate_raster_stac(state=state,\n",
    "                     district=district,\n",
    "                     block=block,\n",
    "                     layer_name='tree_canopy_height_raster',\n",
    "                    #  layer_map_csv_path='../data/input/metadata/layer_mapping.csv',\n",
    "                    #  layer_desc_csv_path='../data/input/metadata/layer_descriptions.csv',\n",
    "                     start_year='2019'\n",
    "                     )"
   ]
  },
  {
   "cell_type": "code",
   "execution_count": null,
   "id": "9c1637a3",
   "metadata": {},
   "outputs": [],
   "source": []
  },
  {
   "cell_type": "code",
   "execution_count": 7,
   "id": "8533b0e8",
   "metadata": {},
   "outputs": [],
   "source": [
    "# vector_item = generate_vector_item(state=state,\n",
    "#                                    district=district,\n",
    "#                                    block=block,\n",
    "#                                    layer_name='admin_boundaries_vector',\n",
    "#                                    layer_map_csv_path='../data/layer_mapping.csv',\n",
    "#                                    layer_desc_csv_path='../data/layer_descriptions.csv',\n",
    "#                                    column_desc_csv_path='../data/vector_column_descriptions.csv')\n",
    "\n",
    "# update_STAC_files(\n",
    "#     state=state,\n",
    "#     district=district,\n",
    "#     block=block,\n",
    "#     STAC_item=vector_item,\n",
    "#     #corestack_dir=STAC_FILES_DIR\n",
    "# )"
   ]
  },
  {
   "cell_type": "code",
   "execution_count": 8,
   "id": "a6c987ef",
   "metadata": {},
   "outputs": [],
   "source": [
    "# vector_item = generate_vector_item(state=state,\n",
    "#                                    district=district,\n",
    "#                                    block=block,\n",
    "#                                    layer_name='aquifer_vector',\n",
    "#                                    layer_map_csv_path='../data/layer_mapping.csv',\n",
    "#                                    layer_desc_csv_path='../data/layer_descriptions.csv',\n",
    "#                                    column_desc_csv_path='../data/vector_column_descriptions.csv')\n",
    "\n",
    "# update_STAC_files(\n",
    "#     state=state,\n",
    "#     district=district,\n",
    "#     block=block,\n",
    "#     STAC_item=vector_item,\n",
    "#     #corestack_dir=STAC_FILES_DIR\n",
    "# )"
   ]
  },
  {
   "cell_type": "code",
   "execution_count": 9,
   "id": "7ae2d740",
   "metadata": {},
   "outputs": [],
   "source": [
    "# vector_item = generate_vector_item(state=state,\n",
    "#                                    district=district,\n",
    "#                                    block=block,\n",
    "#                                    layer_name='drainage_lines_vector',\n",
    "#                                    layer_map_csv_path='../data/layer_mapping.csv',\n",
    "#                                    layer_desc_csv_path='../data/layer_descriptions.csv',\n",
    "#                                    column_desc_csv_path='../data/vector_column_descriptions.csv')\n",
    "\n",
    "# update_STAC_files(\n",
    "#     state=state,\n",
    "#     district=district,\n",
    "#     block=block,\n",
    "#     STAC_item=vector_item,\n",
    "#     #corestack_dir=STAC_FILES_DIR\n",
    "# )"
   ]
  },
  {
   "cell_type": "code",
   "execution_count": 10,
   "id": "8cf78b8a",
   "metadata": {},
   "outputs": [],
   "source": [
    "# vector_item = generate_vector_item(state=state,\n",
    "#                                    district=district,\n",
    "#                                    block=block,\n",
    "#                                    layer_name='surface_water_bodies_vector',\n",
    "#                                    layer_map_csv_path='../data/layer_mapping.csv',\n",
    "#                                    layer_desc_csv_path='../data/layer_descriptions.csv',\n",
    "#                                    column_desc_csv_path='../data/vector_column_descriptions.csv')\n",
    "\n",
    "# update_STAC_files(\n",
    "#     state=state,\n",
    "#     district=district,\n",
    "#     block=block,\n",
    "#     STAC_item=vector_item,\n",
    "#     #corestack_dir=STAC_FILES_DIR\n",
    "# )"
   ]
  },
  {
   "cell_type": "code",
   "execution_count": 11,
   "id": "0dd3c72a",
   "metadata": {},
   "outputs": [],
   "source": [
    "# vector_item = generate_vector_item(state=state,\n",
    "#                                    district=district,\n",
    "#                                    block=block,\n",
    "#                                    layer_name='nrega_vector',\n",
    "#                                    layer_map_csv_path='../data/layer_mapping.csv',\n",
    "#                                    layer_desc_csv_path='../data/layer_descriptions.csv',\n",
    "#                                    column_desc_csv_path='../data/vector_column_descriptions.csv')\n",
    "\n",
    "# update_STAC_files(\n",
    "#     state=state,\n",
    "#     district=district,\n",
    "#     block=block,\n",
    "#     STAC_item=vector_item,\n",
    "#     #corestack_dir=STAC_FILES_DIR\n",
    "# )"
   ]
  },
  {
   "cell_type": "code",
   "execution_count": 12,
   "id": "17466699",
   "metadata": {},
   "outputs": [],
   "source": [
    "# vector_item = generate_vector_item(state=state,\n",
    "#                                    district=district,\n",
    "#                                    block=block,\n",
    "#                                    layer_name='terrain_vector',\n",
    "#                                    layer_map_csv_path='../data/layer_mapping.csv',\n",
    "#                                    layer_desc_csv_path='../data/layer_descriptions.csv',\n",
    "#                                    column_desc_csv_path='../data/vector_column_descriptions.csv')\n",
    "\n",
    "# update_STAC_files(\n",
    "#     state=state,\n",
    "#     district=district,\n",
    "#     block=block,\n",
    "#     STAC_item=vector_item,\n",
    "#     # corestack_dir=STAC_FILES_DIR\n",
    "# )"
   ]
  },
  {
   "cell_type": "code",
   "execution_count": 13,
   "id": "cfd8a2c7",
   "metadata": {},
   "outputs": [],
   "source": [
    "# vector_item = generate_vector_item(state=state,\n",
    "#                                    district=district,\n",
    "#                                    block=block,\n",
    "#                                    layer_name='cropping_intensity_vector',\n",
    "#                                    layer_map_csv_path='../data/layer_mapping.csv',\n",
    "#                                    layer_desc_csv_path='../data/layer_descriptions.csv',\n",
    "#                                    column_desc_csv_path='../data/vector_column_descriptions.csv')\n",
    "\n",
    "# update_STAC_files(\n",
    "#     state=state,\n",
    "#     district=district,\n",
    "#     block=block,\n",
    "#     STAC_item=vector_item,\n",
    "#     # corestack_dir=STAC_FILES_DIR\n",
    "# )"
   ]
  },
  {
   "cell_type": "code",
   "execution_count": 14,
   "id": "76c820fd",
   "metadata": {},
   "outputs": [],
   "source": [
    "# vector_item = generate_vector_item(state=state,\n",
    "#                                    district=district,\n",
    "#                                    block=block,\n",
    "#                                    layer_name='stage_of_groundwater_extraction_vector',\n",
    "#                                    layer_map_csv_path='../data/layer_mapping.csv',\n",
    "#                                    layer_desc_csv_path='../data/layer_descriptions.csv',\n",
    "#                                    column_desc_csv_path='../data/vector_column_descriptions.csv')\n",
    "\n",
    "# update_STAC_files(\n",
    "#     state=state,\n",
    "#     district=district,\n",
    "#     block=block,\n",
    "#     STAC_item=vector_item,\n",
    "#     #corestack_dir=STAC_FILES_DIR\n",
    "# )"
   ]
  },
  {
   "cell_type": "code",
   "execution_count": 15,
   "id": "b98ff68f",
   "metadata": {},
   "outputs": [],
   "source": [
    "# vector_item = generate_vector_item(state=state,\n",
    "#                                    district=district,\n",
    "#                                    block=block,\n",
    "#                                    layer_name='drought_frequency_vector',\n",
    "#                                    layer_map_csv_path='../data/layer_mapping.csv',\n",
    "#                                    layer_desc_csv_path='../data/layer_descriptions.csv',\n",
    "#                                    column_desc_csv_path='../data/vector_column_descriptions.csv')\n",
    "\n",
    "# update_STAC_files(\n",
    "#     state=state,\n",
    "#     district=district,\n",
    "#     block=block,\n",
    "#     STAC_item=vector_item,\n",
    "#     #corestack_dir=STAC_FILES_DIR\n",
    "# )"
   ]
  },
  {
   "cell_type": "code",
   "execution_count": 16,
   "id": "92597672",
   "metadata": {},
   "outputs": [],
   "source": [
    "# vector_item = generate_vector_item(state=state,\n",
    "#                                    district=district,\n",
    "#                                    block=block,\n",
    "#                                    layer_name='tree_cover_change_vector',\n",
    "#                                    layer_map_csv_path='../data/layer_mapping.csv',\n",
    "#                                    layer_desc_csv_path='../data/layer_descriptions.csv',\n",
    "#                                    column_desc_csv_path='../data/vector_column_descriptions.csv')\n",
    "\n",
    "# update_STAC_files(\n",
    "#     state=state,\n",
    "#     district=district,\n",
    "#     block=block,\n",
    "#     STAC_item=vector_item,\n",
    "#     # corestack_dir=STAC_FILES_DIR\n",
    "# )"
   ]
  },
  {
   "cell_type": "code",
   "execution_count": 17,
   "id": "dcd03efd",
   "metadata": {},
   "outputs": [],
   "source": [
    "# vector_item = generate_vector_item(state=state,\n",
    "#                                    district=district,\n",
    "#                                    block=block,\n",
    "#                                    layer_name='land_use_land_cover_vector',\n",
    "#                                    layer_map_csv_path='../data/layer_mapping.csv',\n",
    "#                                    layer_desc_csv_path='../data/layer_descriptions.csv',\n",
    "#                                    column_desc_csv_path='../data/vector_column_descriptions.csv')\n",
    "\n",
    "# update_STAC_files(\n",
    "#     state=state,\n",
    "#     district=district,\n",
    "#     block=block,\n",
    "#     STAC_item=vector_item,\n",
    "#     # corestack_dir=STAC_FILES_DIR\n",
    "# )"
   ]
  },
  {
   "cell_type": "code",
   "execution_count": 18,
   "id": "6a6ce6fb",
   "metadata": {},
   "outputs": [],
   "source": [
    "# raster_item = generate_raster_item(state=state,\n",
    "#                                    district=district,\n",
    "#                                    block=block,\n",
    "#                                    layer_name='land_use_land_cover_raster',\n",
    "#                                    layer_map_csv_path='../data/layer_mapping.csv',\n",
    "#                                    layer_desc_csv_path='../data/layer_descriptions.csv',\n",
    "#                                    start_year='2017',\n",
    "#                                    end_year='2018')\n",
    "\n",
    "# update_STAC_files(\n",
    "#     state=state,\n",
    "#     district=district,\n",
    "#     block=block,\n",
    "#     STAC_item=raster_item,\n",
    "#     #corestack_dir=STAC_FILES_DIR\n",
    "# )"
   ]
  },
  {
   "cell_type": "code",
   "execution_count": 19,
   "id": "97b0bed6",
   "metadata": {},
   "outputs": [],
   "source": [
    "# raster_item = generate_raster_item(state=state,\n",
    "#                                    district=district,\n",
    "#                                    block=block,\n",
    "#                                    layer_name='land_use_land_cover_raster',\n",
    "#                                    layer_map_csv_path='../data/layer_mapping.csv',\n",
    "#                                    layer_desc_csv_path='../data/layer_descriptions.csv',\n",
    "#                                    start_year='2018',\n",
    "#                                    end_year='2019')\n",
    "\n",
    "# update_STAC_files(\n",
    "#     state=state,\n",
    "#     district=district,\n",
    "#     block=block,\n",
    "#     STAC_item=raster_item,\n",
    "#     #corestack_dir=STAC_FILES_DIR\n",
    "# )"
   ]
  },
  {
   "cell_type": "code",
   "execution_count": 20,
   "id": "448d26b7",
   "metadata": {},
   "outputs": [],
   "source": [
    "# raster_item = generate_raster_item(state=state,\n",
    "#                                    district=district,\n",
    "#                                    block=block,\n",
    "#                                    layer_name='land_use_land_cover_raster',\n",
    "#                                    layer_map_csv_path='../data/layer_mapping.csv',\n",
    "#                                    layer_desc_csv_path='../data/layer_descriptions.csv',\n",
    "#                                    start_year='2019',\n",
    "#                                    end_year='2020')\n",
    "\n",
    "# update_STAC_files(\n",
    "#     state=state,\n",
    "#     district=district,\n",
    "#     block=block,\n",
    "#     STAC_item=raster_item,\n",
    "#     #corestack_dir=STAC_FILES_DIR\n",
    "# )"
   ]
  },
  {
   "cell_type": "code",
   "execution_count": 21,
   "id": "b3df9d06",
   "metadata": {},
   "outputs": [],
   "source": [
    "# raster_item = generate_raster_item(state=state,\n",
    "#                                    district=district,\n",
    "#                                    block=block,\n",
    "#                                    layer_name='land_use_land_cover_raster',\n",
    "#                                    layer_map_csv_path='../data/layer_mapping.csv',\n",
    "#                                    layer_desc_csv_path='../data/layer_descriptions.csv',\n",
    "#                                    start_year='2020',\n",
    "#                                    end_year='2021')\n",
    "\n",
    "# update_STAC_files(\n",
    "#     state=state,\n",
    "#     district=district,\n",
    "#     block=block,\n",
    "#     STAC_item=raster_item,\n",
    "#     #corestack_dir=STAC_FILES_DIR\n",
    "# )"
   ]
  },
  {
   "cell_type": "code",
   "execution_count": 22,
   "id": "961574d2",
   "metadata": {},
   "outputs": [],
   "source": [
    "# raster_item = generate_raster_item(state=state,\n",
    "#                                    district=district,\n",
    "#                                    block=block,\n",
    "#                                    layer_name='land_use_land_cover_raster',\n",
    "#                                    layer_map_csv_path='../data/layer_mapping.csv',\n",
    "#                                    layer_desc_csv_path='../data/layer_descriptions.csv',\n",
    "#                                    start_year='2021',\n",
    "#                                    end_year='2022')\n",
    "\n",
    "# update_STAC_files(\n",
    "#     state=state,\n",
    "#     district=district,\n",
    "#     block=block,\n",
    "#     STAC_item=raster_item,\n",
    "#     #corestack_dir=STAC_FILES_DIR\n",
    "# )"
   ]
  },
  {
   "cell_type": "code",
   "execution_count": 23,
   "id": "a7946d78",
   "metadata": {},
   "outputs": [],
   "source": [
    "# raster_item = generate_raster_item(state=state,\n",
    "#                                    district=district,\n",
    "#                                    block=block,\n",
    "#                                    layer_name='land_use_land_cover_raster',\n",
    "#                                    layer_map_csv_path='../data/layer_mapping.csv',\n",
    "#                                    layer_desc_csv_path='../data/layer_descriptions.csv',\n",
    "#                                    start_year='2022',\n",
    "#                                    end_year='2023')\n",
    "\n",
    "# update_STAC_files(\n",
    "#     state=state,\n",
    "#     district=district,\n",
    "#     block=block,\n",
    "#     STAC_item=raster_item,\n",
    "#     #corestack_dir=STAC_FILES_DIR\n",
    "# )"
   ]
  },
  {
   "cell_type": "code",
   "execution_count": 24,
   "id": "e868fe81",
   "metadata": {},
   "outputs": [],
   "source": [
    "# raster_item = generate_raster_item(state=state,\n",
    "#                                    district=district,\n",
    "#                                    block=block,\n",
    "#                                    layer_name='land_use_land_cover_raster',\n",
    "#                                    layer_map_csv_path='../data/layer_mapping.csv',\n",
    "#                                    layer_desc_csv_path='../data/layer_descriptions.csv',\n",
    "#                                    start_year='2023',\n",
    "#                                    end_year='2024')\n",
    "\n",
    "# update_STAC_files(\n",
    "#     state=state,\n",
    "#     district=district,\n",
    "#     block=block,\n",
    "#     STAC_item=raster_item,\n",
    "#     #corestack_dir=STAC_FILES_DIR\n",
    "# )"
   ]
  },
  {
   "cell_type": "markdown",
   "id": "9f167cd0",
   "metadata": {},
   "source": [
    "Tree Canopy Cover Density"
   ]
  },
  {
   "cell_type": "code",
   "execution_count": 25,
   "id": "f1c0e674",
   "metadata": {},
   "outputs": [],
   "source": [
    "# raster_item = generate_raster_item(state=state,\n",
    "#                                    district=district,\n",
    "#                                    block=block,\n",
    "#                                    layer_name='tree_canopy_cover_density_raster',\n",
    "#                                    layer_map_csv_path='../data/layer_mapping.csv',\n",
    "#                                    layer_desc_csv_path='../data/layer_descriptions.csv',\n",
    "#                                    start_year='2017',\n",
    "#                                    )\n",
    "\n",
    "# update_STAC_files(\n",
    "#     state=state,\n",
    "#     district=district,\n",
    "#     block=block,\n",
    "#     STAC_item=raster_item,\n",
    "#     #corestack_dir=STAC_FILES_DIR\n",
    "# )"
   ]
  },
  {
   "cell_type": "code",
   "execution_count": 26,
   "id": "aa451837",
   "metadata": {},
   "outputs": [],
   "source": [
    "# raster_item = generate_raster_item(state=state,\n",
    "#                                    district=district,\n",
    "#                                    block=block,\n",
    "#                                    layer_name='tree_canopy_cover_density_raster',\n",
    "#                                    layer_map_csv_path='../data/layer_mapping.csv',\n",
    "#                                    layer_desc_csv_path='../data/layer_descriptions.csv',\n",
    "#                                    start_year='2018',\n",
    "#                                    )\n",
    "\n",
    "# update_STAC_files(\n",
    "#     state=state,\n",
    "#     district=district,\n",
    "#     block=block,\n",
    "#     STAC_item=raster_item,\n",
    "#     #corestack_dir=STAC_FILES_DIR\n",
    "# )"
   ]
  },
  {
   "cell_type": "code",
   "execution_count": 27,
   "id": "00df75a0",
   "metadata": {},
   "outputs": [],
   "source": [
    "# raster_item = generate_raster_item(state=state,\n",
    "#                                    district=district,\n",
    "#                                    block=block,\n",
    "#                                    layer_name='tree_canopy_cover_density_raster',\n",
    "#                                    layer_map_csv_path='../data/layer_mapping.csv',\n",
    "#                                    layer_desc_csv_path='../data/layer_descriptions.csv',\n",
    "#                                    start_year='2019',\n",
    "#                                    )\n",
    "\n",
    "# update_STAC_files(\n",
    "#     state=state,\n",
    "#     district=district,\n",
    "#     block=block,\n",
    "#     STAC_item=raster_item,\n",
    "#     #corestack_dir=STAC_FILES_DIR\n",
    "# )"
   ]
  },
  {
   "cell_type": "code",
   "execution_count": 28,
   "id": "8a004f04",
   "metadata": {},
   "outputs": [],
   "source": [
    "# raster_item = generate_raster_item(state=state,\n",
    "#                                    district=district,\n",
    "#                                    block=block,\n",
    "#                                    layer_name='tree_canopy_cover_density_raster',\n",
    "#                                    layer_map_csv_path='../data/layer_mapping.csv',\n",
    "#                                    layer_desc_csv_path='../data/layer_descriptions.csv',\n",
    "#                                    start_year='2020',\n",
    "#                                    )\n",
    "\n",
    "# update_STAC_files(\n",
    "#     state=state,\n",
    "#     district=district,\n",
    "#     block=block,\n",
    "#     STAC_item=raster_item,\n",
    "#     #corestack_dir=STAC_FILES_DIR\n",
    "# )"
   ]
  },
  {
   "cell_type": "code",
   "execution_count": 29,
   "id": "f21f4b29",
   "metadata": {},
   "outputs": [],
   "source": [
    "# raster_item = generate_raster_item(state=state,\n",
    "#                                    district=district,\n",
    "#                                    block=block,\n",
    "#                                    layer_name='tree_canopy_cover_density_raster',\n",
    "#                                    layer_map_csv_path='../data/layer_mapping.csv',\n",
    "#                                    layer_desc_csv_path='../data/layer_descriptions.csv',\n",
    "#                                    start_year='2021',\n",
    "#                                    )\n",
    "\n",
    "# update_STAC_files(\n",
    "#     state=state,\n",
    "#     district=district,\n",
    "#     block=block,\n",
    "#     STAC_item=raster_item,\n",
    "#     #corestack_dir=STAC_FILES_DIR\n",
    "# )"
   ]
  },
  {
   "cell_type": "code",
   "execution_count": 30,
   "id": "f7a4fb19",
   "metadata": {},
   "outputs": [],
   "source": [
    "# raster_item = generate_raster_item(state=state,\n",
    "#                                    district=district,\n",
    "#                                    block=block,\n",
    "#                                    layer_name='tree_canopy_cover_density_raster',\n",
    "#                                    layer_map_csv_path='../data/layer_mapping.csv',\n",
    "#                                    layer_desc_csv_path='../data/layer_descriptions.csv',\n",
    "#                                    start_year='2022')\n",
    "\n",
    "# update_STAC_files(\n",
    "#     state=state,\n",
    "#     district=district,\n",
    "#     block=block,\n",
    "#     STAC_item=raster_item,\n",
    "#     #corestack_dir=STAC_FILES_DIR\n",
    "# )"
   ]
  },
  {
   "cell_type": "markdown",
   "id": "9a88b01e",
   "metadata": {},
   "source": [
    "Tree Height "
   ]
  },
  {
   "cell_type": "code",
   "execution_count": 31,
   "id": "69828150",
   "metadata": {},
   "outputs": [],
   "source": [
    "# raster_item = generate_raster_item(state=state,\n",
    "#                                    district=district,\n",
    "#                                    block=block,\n",
    "#                                    layer_name='tree_canopy_height_raster',\n",
    "#                                    layer_map_csv_path='../data/layer_mapping.csv',\n",
    "#                                    layer_desc_csv_path='../data/layer_descriptions.csv',\n",
    "#                                    start_year='2017',\n",
    "#                                    )\n",
    "\n",
    "# update_STAC_files(\n",
    "#     state=state,\n",
    "#     district=district,\n",
    "#     block=block,\n",
    "#     STAC_item=raster_item,\n",
    "#     #corestack_dir=STAC_FILES_DIR\n",
    "# )"
   ]
  },
  {
   "cell_type": "code",
   "execution_count": 32,
   "id": "6f0dd21e",
   "metadata": {},
   "outputs": [],
   "source": [
    "# raster_item = generate_raster_item(state=state,\n",
    "#                                    district=district,\n",
    "#                                    block=block,\n",
    "#                                    layer_name='tree_canopy_height_raster',\n",
    "#                                    layer_map_csv_path='../data/layer_mapping.csv',\n",
    "#                                    layer_desc_csv_path='../data/layer_descriptions.csv',\n",
    "#                                    start_year='2018',\n",
    "#                                    )\n",
    "\n",
    "# update_STAC_files(\n",
    "#     state=state,\n",
    "#     district=district,\n",
    "#     block=block,\n",
    "#     STAC_item=raster_item,\n",
    "#     #corestack_dir=STAC_FILES_DIR\n",
    "# )"
   ]
  },
  {
   "cell_type": "code",
   "execution_count": 33,
   "id": "aaf30122",
   "metadata": {},
   "outputs": [],
   "source": [
    "# raster_item = generate_raster_item(state=state,\n",
    "#                                    district=district,\n",
    "#                                    block=block,\n",
    "#                                    layer_name='tree_canopy_height_raster',\n",
    "#                                    layer_map_csv_path='../data/layer_mapping.csv',\n",
    "#                                    layer_desc_csv_path='../data/layer_descriptions.csv',\n",
    "#                                    start_year='2019',\n",
    "#                                    )\n",
    "\n",
    "# update_STAC_files(\n",
    "#     state=state,\n",
    "#     district=district,\n",
    "#     block=block,\n",
    "#     STAC_item=raster_item,\n",
    "#     #corestack_dir=STAC_FILES_DIR\n",
    "# )"
   ]
  },
  {
   "cell_type": "code",
   "execution_count": 34,
   "id": "7ff1487e",
   "metadata": {},
   "outputs": [],
   "source": [
    "# raster_item = generate_raster_item(state=state,\n",
    "#                                    district=district,\n",
    "#                                    block=block,\n",
    "#                                    layer_name='tree_canopy_height_raster',\n",
    "#                                    layer_map_csv_path='../data/layer_mapping.csv',\n",
    "#                                    layer_desc_csv_path='../data/layer_descriptions.csv',\n",
    "#                                    start_year='2020',\n",
    "#                                    )\n",
    "\n",
    "# update_STAC_files(\n",
    "#     state=state,\n",
    "#     district=district,\n",
    "#     block=block,\n",
    "#     STAC_item=raster_item,\n",
    "#     #corestack_dir=STAC_FILES_DIR\n",
    "# )"
   ]
  },
  {
   "cell_type": "code",
   "execution_count": 35,
   "id": "85be63a8",
   "metadata": {},
   "outputs": [],
   "source": [
    "# raster_item = generate_raster_item(state=state,\n",
    "#                                    district=district,\n",
    "#                                    block=block,\n",
    "#                                    layer_name='tree_canopy_height_raster',\n",
    "#                                    layer_map_csv_path='../data/layer_mapping.csv',\n",
    "#                                    layer_desc_csv_path='../data/layer_descriptions.csv',\n",
    "#                                    start_year='2021',\n",
    "#                                    )\n",
    "\n",
    "# update_STAC_files(\n",
    "#     state=state,\n",
    "#     district=district,\n",
    "#     block=block,\n",
    "#     STAC_item=raster_item,\n",
    "#     #corestack_dir=STAC_FILES_DIR\n",
    "# )"
   ]
  },
  {
   "cell_type": "code",
   "execution_count": 36,
   "id": "dece739b",
   "metadata": {},
   "outputs": [],
   "source": [
    "# raster_item = generate_raster_item(state=state,\n",
    "#                                    district=district,\n",
    "#                                    block=block,\n",
    "#                                    layer_name='tree_canopy_height_raster',\n",
    "#                                    layer_map_csv_path='../data/layer_mapping.csv',\n",
    "#                                    layer_desc_csv_path='../data/layer_descriptions.csv',\n",
    "#                                    start_year='2022',\n",
    "#                                    )\n",
    "\n",
    "# update_STAC_files(\n",
    "#     state=state,\n",
    "#     district=district,\n",
    "#     block=block,\n",
    "#     STAC_item=raster_item,\n",
    "#     corestack_dir=STAC_FILES_DIR\n",
    "# )"
   ]
  },
  {
   "cell_type": "markdown",
   "id": "604b7fa3",
   "metadata": {},
   "source": [
    "All remaining static raster layers"
   ]
  },
  {
   "cell_type": "code",
   "execution_count": 37,
   "id": "ef1ae1be",
   "metadata": {},
   "outputs": [],
   "source": [
    "# block = 'koraput'\n",
    "# district = block_district_state_df[block_district_state_df['block'] == block]['district'].iloc[0]\n",
    "# state = block_district_state_df[block_district_state_df['block'] == block]['state'].iloc[0]\n",
    "# print(state,district,block)"
   ]
  },
  {
   "cell_type": "code",
   "execution_count": 38,
   "id": "f47148fe",
   "metadata": {},
   "outputs": [],
   "source": [
    "# raster_item = generate_raster_item(state=state,\n",
    "#                                    district=district,\n",
    "#                                    block=block,\n",
    "#                                    layer_name='change_tree_cover_gain_raster',\n",
    "#                                    layer_map_csv_path='../data/layer_mapping.csv',\n",
    "#                                    layer_desc_csv_path='../data/layer_descriptions.csv'                             \n",
    "#                                    )\n",
    "\n",
    "# update_STAC_files(\n",
    "#     state=state,\n",
    "#     district=district,\n",
    "#     block=block,\n",
    "#     STAC_item=raster_item,\n",
    "#     #corestack_dir=STAC_FILES_DIR\n",
    "# )"
   ]
  },
  {
   "cell_type": "code",
   "execution_count": 39,
   "id": "a98e3f0b",
   "metadata": {},
   "outputs": [],
   "source": [
    "# raster_item = generate_raster_item(state=state,\n",
    "#                                    district=district,\n",
    "#                                    block=block,\n",
    "#                                    layer_name='change_tree_cover_loss_raster',\n",
    "#                                    layer_map_csv_path='../data/layer_mapping.csv',\n",
    "#                                    layer_desc_csv_path='../data/layer_descriptions.csv'                             \n",
    "#                                    )\n",
    "\n",
    "# update_STAC_files(\n",
    "#     state=state,\n",
    "#     district=district,\n",
    "#     block=block,\n",
    "#     STAC_item=raster_item,\n",
    "#     #corestack_dir=STAC_FILES_DIR\n",
    "# )"
   ]
  },
  {
   "cell_type": "code",
   "execution_count": 40,
   "id": "21a347a2",
   "metadata": {},
   "outputs": [],
   "source": [
    "# raster_item = generate_raster_item(state=state,\n",
    "#                                    district=district,\n",
    "#                                    block=block,\n",
    "#                                    layer_name='change_cropping_reduction_raster',\n",
    "#                                    layer_map_csv_path='../data/layer_mapping.csv',\n",
    "#                                    layer_desc_csv_path='../data/layer_descriptions.csv'                             \n",
    "#                                    )\n",
    "\n",
    "# update_STAC_files(\n",
    "#     state=state,\n",
    "#     district=district,\n",
    "#     block=block,\n",
    "#     STAC_item=raster_item,\n",
    "#     #corestack_dir=STAC_FILES_DIR\n",
    "# )"
   ]
  },
  {
   "cell_type": "code",
   "execution_count": 41,
   "id": "63baa118",
   "metadata": {},
   "outputs": [],
   "source": [
    "# raster_item = generate_raster_item(state=state,\n",
    "#                                    district=district,\n",
    "#                                    block=block,\n",
    "#                                    layer_name='change_urbanization_raster',\n",
    "#                                    layer_map_csv_path='../data/layer_mapping.csv',\n",
    "#                                    layer_desc_csv_path='../data/layer_descriptions.csv'                             \n",
    "#                                    )\n",
    "\n",
    "# update_STAC_files(\n",
    "#     state=state,\n",
    "#     district=district,\n",
    "#     block=block,\n",
    "#     STAC_item=raster_item,\n",
    "#     #corestack_dir=STAC_FILES_DIR\n",
    "# )"
   ]
  },
  {
   "cell_type": "code",
   "execution_count": 42,
   "id": "6f72b747",
   "metadata": {},
   "outputs": [],
   "source": [
    "# raster_item = generate_raster_item(state=state,\n",
    "#                                    district=district,\n",
    "#                                    block=block,\n",
    "#                                    layer_name='terrain_raster',\n",
    "#                                    layer_map_csv_path='../data/layer_mapping.csv',\n",
    "#                                    layer_desc_csv_path='../data/layer_descriptions.csv'                             \n",
    "#                                    )\n",
    "\n",
    "# update_STAC_files(\n",
    "#     state=state,\n",
    "#     district=district,\n",
    "#     block=block,\n",
    "#     STAC_item=raster_item,\n",
    "#     #corestack_dir=STAC_FILES_DIR\n",
    "# )"
   ]
  },
  {
   "cell_type": "code",
   "execution_count": 43,
   "id": "5392fa2b",
   "metadata": {},
   "outputs": [],
   "source": [
    "# raster_item = generate_raster_item(state=state,\n",
    "#                                    district=district,\n",
    "#                                    block=block,\n",
    "#                                    layer_name='clart_raster',\n",
    "#                                    layer_map_csv_path='../data/layer_mapping.csv',\n",
    "#                                    layer_desc_csv_path='../data/layer_descriptions.csv'                             \n",
    "#                                    )\n",
    "\n",
    "# update_STAC_files(\n",
    "#     state=state,\n",
    "#     district=district,\n",
    "#     block=block,\n",
    "#     STAC_item=raster_item,\n",
    "#     #corestack_dir=STAC_FILES_DIR\n",
    "# )"
   ]
  },
  {
   "cell_type": "code",
   "execution_count": 44,
   "id": "85d53bf6",
   "metadata": {},
   "outputs": [],
   "source": [
    "# raster_item = generate_raster_item(state=state,\n",
    "#                                    district=district,\n",
    "#                                    block=block,\n",
    "#                                    layer_name='tree_cover_change_raster',\n",
    "#                                    layer_map_csv_path='../data/layer_mapping.csv',\n",
    "#                                    layer_desc_csv_path='../data/layer_descriptions.csv'                             \n",
    "#                                    )\n",
    "\n",
    "# update_STAC_files(\n",
    "#     state=state,\n",
    "#     district=district,\n",
    "#     block=block,\n",
    "#     STAC_item=raster_item,\n",
    "#     #corestack_dir=STAC_FILES_DIR\n",
    "# )"
   ]
  },
  {
   "cell_type": "code",
   "execution_count": 45,
   "id": "ada6700b",
   "metadata": {},
   "outputs": [],
   "source": [
    "# raster_item = generate_raster_item(state=state,\n",
    "#                                    district=district,\n",
    "#                                    block=block,\n",
    "#                                    layer_name='change_cropping_intensity_raster',\n",
    "#                                    layer_map_csv_path='../data/layer_mapping.csv',\n",
    "#                                    layer_desc_csv_path='../data/layer_descriptions.csv'                             \n",
    "#                                    )\n",
    "\n",
    "# update_STAC_files(\n",
    "#     state=state,\n",
    "#     district=district,\n",
    "#     block=block,\n",
    "#     STAC_item=raster_item,\n",
    "#     #corestack_dir=STAC_FILES_DIR\n",
    "# )"
   ]
  },
  {
   "cell_type": "code",
   "execution_count": 46,
   "id": "2955840c",
   "metadata": {},
   "outputs": [],
   "source": [
    "# update_STAC_files(\n",
    "#     state=state,\n",
    "#     district=district,\n",
    "#     block=block,\n",
    "#     STAC_item=raster_item,\n",
    "#     corestack_dir=STAC_FILES_DIR\n",
    "# )"
   ]
  },
  {
   "cell_type": "code",
   "execution_count": 47,
   "id": "183c3fdf",
   "metadata": {},
   "outputs": [],
   "source": [
    "# raster_item = generate_raster_item(state=state,\n",
    "#                                    district=district,\n",
    "#                                    block=block,\n",
    "#                                    layer_name='terrain_raster',\n",
    "#                                    layer_map_csv_path='../data/layer_mapping.csv',\n",
    "#                                    layer_desc_csv_path='../data/layer_descriptions.csv',\n",
    "#                                    )"
   ]
  },
  {
   "cell_type": "code",
   "execution_count": 48,
   "id": "f50a7932",
   "metadata": {},
   "outputs": [],
   "source": [
    "# update_STAC_files(\n",
    "#     state=state,\n",
    "#     district=district,\n",
    "#     block=block,\n",
    "#     STAC_item=raster_item,\n",
    "#     corestack_dir=STAC_FILES_DIR\n",
    "# )"
   ]
  },
  {
   "cell_type": "code",
   "execution_count": 49,
   "id": "cb86a3ec",
   "metadata": {},
   "outputs": [],
   "source": [
    "# raster_item = generate_raster_item(state=state,\n",
    "#                                    district=district,\n",
    "#                                    block=block,\n",
    "#                                    layer_name='tree_canopy_cover_density_raster',\n",
    "#                                    layer_map_csv_path='../data/layer_mapping.csv',\n",
    "#                                    layer_desc_csv_path='../data/layer_descriptions.csv',\n",
    "#                                    start_year='2022',\n",
    "#                                    end_year='2023'\n",
    "#                                    )"
   ]
  },
  {
   "cell_type": "code",
   "execution_count": 50,
   "id": "ee8dd72a",
   "metadata": {},
   "outputs": [],
   "source": [
    "# update_STAC_files(\n",
    "#     state=state,\n",
    "#     district=district,\n",
    "#     block=block,\n",
    "#     STAC_item=raster_item,\n",
    "#     corestack_dir=STAC_FILES_DIR\n",
    "# )"
   ]
  },
  {
   "cell_type": "markdown",
   "id": "3e2adbc2",
   "metadata": {},
   "source": [
    "Test all remaining raster layers"
   ]
  },
  {
   "cell_type": "code",
   "execution_count": 51,
   "id": "9631285b",
   "metadata": {},
   "outputs": [],
   "source": [
    "# layer_mapping_df = pd.read_csv('../data/layer_mapping.csv')"
   ]
  },
  {
   "cell_type": "code",
   "execution_count": 52,
   "id": "cb549ef8",
   "metadata": {},
   "outputs": [],
   "source": [
    "# layer_mapping_df.shape"
   ]
  },
  {
   "cell_type": "code",
   "execution_count": 53,
   "id": "e814db97",
   "metadata": {},
   "outputs": [],
   "source": [
    "# layer_mapping_df = layer_mapping_df[layer_mapping_df['layer_name'].notna()]"
   ]
  },
  {
   "cell_type": "code",
   "execution_count": 54,
   "id": "f3ff6fd9",
   "metadata": {},
   "outputs": [],
   "source": [
    "# layer_mapping_df.shape"
   ]
  },
  {
   "cell_type": "code",
   "execution_count": 55,
   "id": "1ec9206b",
   "metadata": {},
   "outputs": [],
   "source": [
    "# raster_layers_df = layer_mapping_df[layer_mapping_df['layer_name'].str.contains('raster')]\n",
    "# raster_layers_df.shape"
   ]
  },
  {
   "cell_type": "code",
   "execution_count": 56,
   "id": "ed6ec1ca",
   "metadata": {},
   "outputs": [],
   "source": [
    "# static_raster_layers_df = pd.DataFrame()"
   ]
  },
  {
   "cell_type": "code",
   "execution_count": 57,
   "id": "5efbc7f3",
   "metadata": {},
   "outputs": [],
   "source": [
    "# raster_layers_df[raster_layers_df['geoserver_layer_name'].str.contains('year')]"
   ]
  },
  {
   "cell_type": "code",
   "execution_count": 58,
   "id": "6078f4ec",
   "metadata": {},
   "outputs": [],
   "source": [
    "# layer_name_year_combinations_df = pd.DataFrame({\n",
    "#     'layer_name' : ['land_use_land_cover_raster','tree_health_ccd'],\n",
    "\n",
    "# }\n",
    " \n",
    "# )"
   ]
  },
  {
   "cell_type": "code",
   "execution_count": 59,
   "id": "6eb39f55",
   "metadata": {},
   "outputs": [],
   "source": [
    "# layer"
   ]
  },
  {
   "cell_type": "code",
   "execution_count": 60,
   "id": "8a2db0aa",
   "metadata": {},
   "outputs": [],
   "source": [
    "# for raster_layer_name in raster_layers_df['layer_name']:\n",
    "\n",
    "#     raster_item = generate_raster_item(state=state,\n",
    "#                                    district=district,\n",
    "#                                    block=block,\n",
    "#                                    layer_name=raster_layer_name,\n",
    "#                                    layer_map_csv_path='../data/layer_mapping.csv',\n",
    "#                                    layer_desc_csv_path='../data/layer_descriptions.csv',\n",
    "#                                    start_year='2022',\n",
    "#                                    end_year='2023'\n",
    "#                                    )"
   ]
  },
  {
   "cell_type": "code",
   "execution_count": 61,
   "id": "60075194",
   "metadata": {},
   "outputs": [],
   "source": [
    "# layer_desc_df[layer_desc_df['layer_name'] == 'tree_cover_change_raster']"
   ]
  },
  {
   "cell_type": "code",
   "execution_count": 62,
   "id": "8ea40652",
   "metadata": {},
   "outputs": [],
   "source": [
    "# read_layer_mapping(layer_map_csv_path = '../data/layer_mapping.csv',\n",
    "#                     district = district,\n",
    "#                     block=block,\n",
    "#                     layer_name='tree_canopy_height_raster',\n",
    "#                     start_year='2018'\n",
    "#                     )"
   ]
  },
  {
   "cell_type": "code",
   "execution_count": 63,
   "id": "91747424",
   "metadata": {},
   "outputs": [],
   "source": [
    "# layer_description = read_layer_description(filepath= '../data/layer_descriptions.csv',\n",
    "#                                             layer_name='tree_cover_change_raster')"
   ]
  },
  {
   "cell_type": "code",
   "execution_count": null,
   "id": "3a69a24e",
   "metadata": {},
   "outputs": [],
   "source": []
  }
 ],
 "metadata": {
  "kernelspec": {
   "display_name": "black",
   "language": "python",
   "name": "python3"
  },
  "language_info": {
   "codemirror_mode": {
    "name": "ipython",
    "version": 3
   },
   "file_extension": ".py",
   "mimetype": "text/x-python",
   "name": "python",
   "nbconvert_exporter": "python",
   "pygments_lexer": "ipython3",
   "version": "3.10.13"
  }
 },
 "nbformat": 4,
 "nbformat_minor": 5
}
