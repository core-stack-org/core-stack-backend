{
 "cells": [
  {
   "cell_type": "code",
   "execution_count": null,
   "id": "facf318f",
   "metadata": {},
   "outputs": [],
   "source": [
    "# !pip install pystac"
   ]
  },
  {
   "cell_type": "code",
   "execution_count": 5,
   "id": "a31b9fe0",
   "metadata": {},
   "outputs": [],
   "source": [
    "import numpy as np\n",
    "import pandas as pd\n",
    "import geopandas as gpd\n",
    "import matplotlib.pyplot as plt\n",
    "\n",
    "import rasterio\n",
    "import os\n",
    "\n",
    "import json\n",
    "import xml.etree.ElementTree as ET\n",
    "import datetime\n",
    "# from datetime import datetime, timezone\n",
    "\n",
    "import urllib\n",
    "import requests\n",
    "from io import BytesIO\n",
    "\n",
    "from rasterio.warp import transform_bounds\n",
    "\n",
    "from matplotlib.colors import ListedColormap, Normalize\n",
    "from shapely.geometry import mapping, box, Polygon\n",
    "\n",
    "import sys\n",
    "sys.path.append('..')\n",
    "import constants\n",
    "\n",
    "import pystac\n",
    "from pystac.extensions.table import TableExtension\n",
    "from pystac import Asset, MediaType\n",
    "from pystac.extensions.classification import ClassificationExtension, Classification\n",
    "from pystac.extensions.raster import RasterExtension,RasterBand\n",
    "from pystac.extensions.projection import ProjectionExtension"
   ]
  },
  {
   "cell_type": "code",
   "execution_count": 6,
   "id": "17aa8033",
   "metadata": {},
   "outputs": [],
   "source": [
    "import generate_STAC_layerwise"
   ]
  },
  {
   "cell_type": "code",
   "execution_count": 7,
   "id": "58b30447",
   "metadata": {},
   "outputs": [],
   "source": [
    "block_district_state_df = pd.DataFrame({\n",
    "    'block' : ['gobindpur','mirzapur','koraput','badlapur'],\n",
    "    'district' : ['saraikela-kharsawan','mirzapur','koraput','jaunpur'],\n",
    "    'state' : ['jharkhand','uttar_pradesh','odisha','uttar_pradesh']\n",
    "})"
   ]
  },
  {
   "cell_type": "code",
   "execution_count": 8,
   "id": "7b3fa71e",
   "metadata": {},
   "outputs": [
    {
     "name": "stdout",
     "output_type": "stream",
     "text": [
      "uttar_pradesh jaunpur badlapur\n"
     ]
    }
   ],
   "source": [
    "block = 'badlapur'\n",
    "district = block_district_state_df[block_district_state_df['block'] == block]['district'].iloc[0]\n",
    "state = block_district_state_df[block_district_state_df['block'] == block]['state'].iloc[0]\n",
    "print(state,district,block)\n"
   ]
  },
  {
   "cell_type": "code",
   "execution_count": 9,
   "id": "71c24ed0",
   "metadata": {},
   "outputs": [
    {
     "name": "stdout",
     "output_type": "stream",
     "text": [
      "geoserver_workspace_name=panchayat_boundaries\n",
      "geoserver_layer_name=jaunpur_badlapur\n",
      "style file url = https://raw.githubusercontent.com/core-stack-org/QGIS-Styles/main/Demographic/Administrative-Boundary-Style.qml\n"
     ]
    },
    {
     "name": "stderr",
     "output_type": "stream",
     "text": [
      "/home/nirzaree/Code/GitClones/core-stack-org/core-stack-backend/computing/STAC_specs/notebooks/../generate_STAC_layerwise.py:742: SettingWithCopyWarning: \n",
      "A value is trying to be set on a copy of a slice from a DataFrame\n",
      "\n",
      "See the caveats in the documentation: https://pandas.pydata.org/pandas-docs/stable/user_guide/indexing.html#returning-a-view-versus-a-copy\n",
      "  vector_column_desc_filtered_gdf.rename({'column_name_description':'column_description'},axis=1,inplace=True)\n"
     ]
    },
    {
     "name": "stdout",
     "output_type": "stream",
     "text": [
      "Warning: Single symbol color not found in ../data/input/style_files/Administrative-Boundary-Style.qml.\n",
      "Applying default style due to parsing error.\n",
      "Thumbnail saved to: ../data/STAC_output_prod/badlapur_admin_boundaries_vector.png\n",
      "created block catalog\n",
      "created district catalog\n",
      "created state collection\n",
      "created root catalog\n"
     ]
    }
   ],
   "source": [
    "generate_STAC_layerwise.generate_vector_stac(state=state,\n",
    "                     district=district,\n",
    "                     block=block,\n",
    "                     layer_name='admin_boundaries_vector',\n",
    "                     layer_map_csv_path='../data/layer_mapping.csv',\n",
    "                     layer_desc_csv_path='../data/layer_descriptions.csv',\n",
    "                     column_desc_csv_path='../data/vector_column_descriptions.csv')"
   ]
  },
  {
   "cell_type": "code",
   "execution_count": 11,
   "id": "f0019dc7",
   "metadata": {},
   "outputs": [
    {
     "name": "stdout",
     "output_type": "stream",
     "text": [
      "geoserver_workspace_name=canopy_height\n",
      "geoserver_layer_name=tree_health_ch_raster_jaunpur_badlapur_2019\n",
      "style file url = https://raw.githubusercontent.com/core-stack-org/QGIS-Styles/main/Tree%20Health/tree_cover_change.qml\n",
      "Raster URL: https://geoserver.core-stack.org:8443/geoserver/canopy_height/wcs?service=WCS&version=2.0.1&request=GetCoverage&CoverageId=canopy_height:tree_health_ch_raster_jaunpur_badlapur_2019&format=geotiff\n",
      "start_date = 2019-07-01 00:00:00\n",
      "end_date = 2020-06-30 00:00:00\n"
     ]
    },
    {
     "name": "stderr",
     "output_type": "stream",
     "text": [
      "/home/nirzaree/miniconda3/envs/black/lib/python3.10/site-packages/urllib3/connectionpool.py:1097: InsecureRequestWarning: Unverified HTTPS request is being made to host 'geoserver.core-stack.org'. Adding certificate verification is strongly advised. See: https://urllib3.readthedocs.io/en/latest/advanced-usage.html#tls-warnings\n",
      "  warnings.warn(\n"
     ]
    },
    {
     "name": "stdout",
     "output_type": "stream",
     "text": [
      "Loaded existing block catalog: badlapur\n"
     ]
    }
   ],
   "source": [
    "generate_STAC_layerwise.generate_raster_stac(state=state,\n",
    "                     district=district,\n",
    "                     block=block,\n",
    "                     layer_name='tree_canopy_height_raster',\n",
    "                     layer_map_csv_path='../data/layer_mapping.csv',\n",
    "                     layer_desc_csv_path='../data/layer_descriptions.csv',\n",
    "                     start_year='2019'\n",
    "                     )"
   ]
  },
  {
   "cell_type": "code",
   "execution_count": null,
   "id": "d7f3c13b",
   "metadata": {},
   "outputs": [],
   "source": []
  }
 ],
 "metadata": {
  "kernelspec": {
   "display_name": "black",
   "language": "python",
   "name": "python3"
  },
  "language_info": {
   "codemirror_mode": {
    "name": "ipython",
    "version": 3
   },
   "file_extension": ".py",
   "mimetype": "text/x-python",
   "name": "python",
   "nbconvert_exporter": "python",
   "pygments_lexer": "ipython3",
   "version": "3.10.13"
  }
 },
 "nbformat": 4,
 "nbformat_minor": 5
}
